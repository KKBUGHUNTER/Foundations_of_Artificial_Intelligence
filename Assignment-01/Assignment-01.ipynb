{
 "cells": [
  {
   "cell_type": "markdown",
   "metadata": {},
   "source": [
    "1. Write a function to generate a sequence for n balls as states based on the color and print the same. Use a suitable data structure to keep track of the parent of every state and show the structure as a state space representation."
   ]
  },
  {
   "cell_type": "code",
   "execution_count": 17,
   "metadata": {},
   "outputs": [
    {
     "name": "stdout",
     "output_type": "stream",
     "text": [
      "[1, 3, 5, 7, 9] [2, 4, 6, 8, 10]\n",
      "1 parent (None)\n",
      "2  parent( 1 )\n",
      "4  parent( 3 )\n",
      "6  parent( 5 )\n",
      "8  parent( 7 )\n",
      "10  parent( 9 )\n"
     ]
    }
   ],
   "source": [
    "def generate_sequence(n,color):\n",
    "    even = []\n",
    "    odd = []\n",
    "    for i in range(1,n+1):\n",
    "        if i%2 == 0: even.append(i)\n",
    "        else: odd.append(i)\n",
    "    return (even,odd)\n",
    "\n",
    "            \n",
    "def print_state_space(sequence):\n",
    "    print(sequence[1][0], \"parent (None)\",)\n",
    "    for i in range(len(sequence[0])):\n",
    "        print(sequence[0][i],\" parent(\",sequence[1][i],\")\")\n",
    "\n",
    "\n",
    "# User choice: Generate a sequence for n balls\n",
    "n = int(input(\"Enter the number of balls: \"))\n",
    "color = input(\"Enter the Color (R:G): \")\n",
    "sequence = generate_sequence(n,color)\n",
    "print_state_space(sequence)\n",
    "\n",
    "# not sure it is correct or not"
   ]
  },
  {
   "cell_type": "markdown",
   "metadata": {},
   "source": [
    "2. Write a function to print the sequence of states and actions from the initial state to the goal state using BFS with suitable data structure."
   ]
  },
  {
   "cell_type": "code",
   "execution_count": 5,
   "metadata": {},
   "outputs": [
    {
     "name": "stdout",
     "output_type": "stream",
     "text": [
      "Starting State 0  => 1  => 3  => 2  => 4  => Goal Reached\n"
     ]
    }
   ],
   "source": [
    "def dfs(graph, start,visited):\n",
    "    \n",
    "    visited[start] = 1\n",
    "    print(start, \" => \", end=\"\")\n",
    "\n",
    "    for i in range(len(graph[start])):\n",
    "        if graph[start][i] == 1 and not visited[i]:\n",
    "            dfs(graph,i,visited)\n",
    "\n",
    "graph = [\n",
    "    [0, 1, 1, 0, 0],\n",
    "    [0, 0, 0, 1, 0],\n",
    "    [0, 0, 0, 0, 1],\n",
    "    [0, 0, 0, 0, 0],\n",
    "    [0, 0, 0, 0, 0]\n",
    "]\n",
    "visited = [0] * len(graph)\n",
    "print(\"Starting State \",end=\"\")\n",
    "dfs(graph, 0,visited)\n",
    "print(\"Goal Reached\")"
   ]
  },
  {
   "cell_type": "code",
   "execution_count": 6,
   "metadata": {},
   "outputs": [
    {
     "name": "stdout",
     "output_type": "stream",
     "text": [
      "Starting State 0 -> 1 -> 2 -> 3 -> 4 -> Goal Reached\n"
     ]
    }
   ],
   "source": [
    "def bfs(graph, start):\n",
    "    visited = [False]*len(graph)\n",
    "    visited[start] = True\n",
    "    queue = [start]\n",
    "    print(start,\"-> \",end=\"\")\n",
    "    while queue:\n",
    "        curr_node = queue.pop(0)\n",
    "        for node in range(len(graph)):\n",
    "            if graph[curr_node][node]>-1 and not visited[node]:\n",
    "                print(node,\"-> \",end=\"\")\n",
    "                visited[node] = True\n",
    "                queue.append(node)\n",
    "\n",
    "graph = [\n",
    "    [0, 1, 1, 0, 0],\n",
    "    [0, 0, 0, 1, 0],\n",
    "    [0, 0, 0, 0, 1],\n",
    "    [0, 0, 0, 0, 0],\n",
    "    [0, 0, 0, 0, 0]\n",
    "]\n",
    "print(\"Starting State \",end=\"\")\n",
    "bfs(graph, 0) \n",
    "print(\"Goal Reached\")"
   ]
  }
 ],
 "metadata": {
  "kernelspec": {
   "display_name": "Python 3",
   "language": "python",
   "name": "python3"
  },
  "language_info": {
   "codemirror_mode": {
    "name": "ipython",
    "version": 3
   },
   "file_extension": ".py",
   "mimetype": "text/x-python",
   "name": "python",
   "nbconvert_exporter": "python",
   "pygments_lexer": "ipython3",
   "version": "3.10.12"
  },
  "orig_nbformat": 4
 },
 "nbformat": 4,
 "nbformat_minor": 2
}
